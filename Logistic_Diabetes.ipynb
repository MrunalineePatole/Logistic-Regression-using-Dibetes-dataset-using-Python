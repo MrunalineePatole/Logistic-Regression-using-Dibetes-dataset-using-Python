{
 "cells": [
  {
   "cell_type": "code",
   "execution_count": 1,
   "metadata": {},
   "outputs": [],
   "source": [
    "import pandas as pd"
   ]
  },
  {
   "cell_type": "code",
   "execution_count": 2,
   "metadata": {},
   "outputs": [],
   "source": [
    "di=pd.read_csv(\"E:/datasets/diabetesLogistic.csv\")"
   ]
  },
  {
   "cell_type": "code",
   "execution_count": 3,
   "metadata": {},
   "outputs": [
    {
     "data": {
      "text/html": [
       "<div>\n",
       "<style scoped>\n",
       "    .dataframe tbody tr th:only-of-type {\n",
       "        vertical-align: middle;\n",
       "    }\n",
       "\n",
       "    .dataframe tbody tr th {\n",
       "        vertical-align: top;\n",
       "    }\n",
       "\n",
       "    .dataframe thead th {\n",
       "        text-align: right;\n",
       "    }\n",
       "</style>\n",
       "<table border=\"1\" class=\"dataframe\">\n",
       "  <thead>\n",
       "    <tr style=\"text-align: right;\">\n",
       "      <th></th>\n",
       "      <th>Pregnancies</th>\n",
       "      <th>Glucose</th>\n",
       "      <th>BloodPressure</th>\n",
       "      <th>SkinThickness</th>\n",
       "      <th>Insulin</th>\n",
       "      <th>BMI</th>\n",
       "      <th>DiabetesPedigreeFunction</th>\n",
       "      <th>Age</th>\n",
       "      <th>Outcome</th>\n",
       "    </tr>\n",
       "  </thead>\n",
       "  <tbody>\n",
       "    <tr>\n",
       "      <th>0</th>\n",
       "      <td>6</td>\n",
       "      <td>148</td>\n",
       "      <td>72</td>\n",
       "      <td>35</td>\n",
       "      <td>0</td>\n",
       "      <td>33.6</td>\n",
       "      <td>0.627</td>\n",
       "      <td>50</td>\n",
       "      <td>1</td>\n",
       "    </tr>\n",
       "    <tr>\n",
       "      <th>1</th>\n",
       "      <td>1</td>\n",
       "      <td>85</td>\n",
       "      <td>66</td>\n",
       "      <td>29</td>\n",
       "      <td>0</td>\n",
       "      <td>26.6</td>\n",
       "      <td>0.351</td>\n",
       "      <td>31</td>\n",
       "      <td>0</td>\n",
       "    </tr>\n",
       "    <tr>\n",
       "      <th>2</th>\n",
       "      <td>8</td>\n",
       "      <td>183</td>\n",
       "      <td>64</td>\n",
       "      <td>0</td>\n",
       "      <td>0</td>\n",
       "      <td>23.3</td>\n",
       "      <td>0.672</td>\n",
       "      <td>32</td>\n",
       "      <td>1</td>\n",
       "    </tr>\n",
       "    <tr>\n",
       "      <th>3</th>\n",
       "      <td>1</td>\n",
       "      <td>89</td>\n",
       "      <td>66</td>\n",
       "      <td>23</td>\n",
       "      <td>94</td>\n",
       "      <td>28.1</td>\n",
       "      <td>0.167</td>\n",
       "      <td>21</td>\n",
       "      <td>0</td>\n",
       "    </tr>\n",
       "    <tr>\n",
       "      <th>4</th>\n",
       "      <td>0</td>\n",
       "      <td>137</td>\n",
       "      <td>40</td>\n",
       "      <td>35</td>\n",
       "      <td>168</td>\n",
       "      <td>43.1</td>\n",
       "      <td>2.288</td>\n",
       "      <td>33</td>\n",
       "      <td>1</td>\n",
       "    </tr>\n",
       "  </tbody>\n",
       "</table>\n",
       "</div>"
      ],
      "text/plain": [
       "   Pregnancies  Glucose  BloodPressure  SkinThickness  Insulin   BMI  \\\n",
       "0            6      148             72             35        0  33.6   \n",
       "1            1       85             66             29        0  26.6   \n",
       "2            8      183             64              0        0  23.3   \n",
       "3            1       89             66             23       94  28.1   \n",
       "4            0      137             40             35      168  43.1   \n",
       "\n",
       "   DiabetesPedigreeFunction  Age  Outcome  \n",
       "0                     0.627   50        1  \n",
       "1                     0.351   31        0  \n",
       "2                     0.672   32        1  \n",
       "3                     0.167   21        0  \n",
       "4                     2.288   33        1  "
      ]
     },
     "execution_count": 3,
     "metadata": {},
     "output_type": "execute_result"
    }
   ],
   "source": [
    "di.head()"
   ]
  },
  {
   "cell_type": "code",
   "execution_count": 5,
   "metadata": {},
   "outputs": [
    {
     "data": {
      "text/plain": [
       "Pregnancies                 0\n",
       "Glucose                     0\n",
       "BloodPressure               0\n",
       "SkinThickness               0\n",
       "Insulin                     0\n",
       "BMI                         0\n",
       "DiabetesPedigreeFunction    0\n",
       "Age                         0\n",
       "Outcome                     0\n",
       "dtype: int64"
      ]
     },
     "execution_count": 5,
     "metadata": {},
     "output_type": "execute_result"
    }
   ],
   "source": [
    "di.isnull().sum()"
   ]
  },
  {
   "cell_type": "code",
   "execution_count": 6,
   "metadata": {},
   "outputs": [],
   "source": [
    "from sklearn.model_selection import train_test_split"
   ]
  },
  {
   "cell_type": "code",
   "execution_count": 7,
   "metadata": {},
   "outputs": [],
   "source": [
    "di_train,di_test=train_test_split(di,test_size=0.2)"
   ]
  },
  {
   "cell_type": "code",
   "execution_count": 8,
   "metadata": {},
   "outputs": [],
   "source": [
    "di_train_x=di_train.iloc[:,0:-1]\n",
    "di_train_y=di_train.iloc[:,-1]\n",
    "di_test_x=di_test.iloc[:,0:-1]\n",
    "di_test_y=di_test.iloc[:,-1]"
   ]
  },
  {
   "cell_type": "code",
   "execution_count": 11,
   "metadata": {},
   "outputs": [],
   "source": [
    "from sklearn.linear_model import LogisticRegression\n",
    "lg=LogisticRegression()"
   ]
  },
  {
   "cell_type": "code",
   "execution_count": 12,
   "metadata": {},
   "outputs": [
    {
     "name": "stderr",
     "output_type": "stream",
     "text": [
      "C:\\Users\\sunil\\anaconda3\\lib\\site-packages\\sklearn\\linear_model\\_logistic.py:762: ConvergenceWarning: lbfgs failed to converge (status=1):\n",
      "STOP: TOTAL NO. of ITERATIONS REACHED LIMIT.\n",
      "\n",
      "Increase the number of iterations (max_iter) or scale the data as shown in:\n",
      "    https://scikit-learn.org/stable/modules/preprocessing.html\n",
      "Please also refer to the documentation for alternative solver options:\n",
      "    https://scikit-learn.org/stable/modules/linear_model.html#logistic-regression\n",
      "  n_iter_i = _check_optimize_result(\n"
     ]
    },
    {
     "data": {
      "text/plain": [
       "LogisticRegression()"
      ]
     },
     "execution_count": 12,
     "metadata": {},
     "output_type": "execute_result"
    }
   ],
   "source": [
    "lg.fit(di_train_x,di_train_y)"
   ]
  },
  {
   "cell_type": "code",
   "execution_count": 13,
   "metadata": {},
   "outputs": [],
   "source": [
    "di_pred=lg.predict(di_test_x)"
   ]
  },
  {
   "cell_type": "code",
   "execution_count": 15,
   "metadata": {},
   "outputs": [],
   "source": [
    "from sklearn.metrics import confusion_matrix"
   ]
  },
  {
   "cell_type": "code",
   "execution_count": 17,
   "metadata": {},
   "outputs": [
    {
     "data": {
      "text/plain": [
       "array([[92, 27],\n",
       "       [13, 22]], dtype=int64)"
      ]
     },
     "execution_count": 17,
     "metadata": {},
     "output_type": "execute_result"
    }
   ],
   "source": [
    "tab1=confusion_matrix(di_pred,di_test_y)\n",
    "tab1"
   ]
  },
  {
   "cell_type": "code",
   "execution_count": 18,
   "metadata": {},
   "outputs": [],
   "source": [
    "from sklearn.metrics import accuracy_score"
   ]
  },
  {
   "cell_type": "code",
   "execution_count": 19,
   "metadata": {},
   "outputs": [
    {
     "data": {
      "text/plain": [
       "0.7402597402597403"
      ]
     },
     "execution_count": 19,
     "metadata": {},
     "output_type": "execute_result"
    }
   ],
   "source": [
    "accuracy_score(di_test_y,di_pred)"
   ]
  },
  {
   "cell_type": "code",
   "execution_count": 20,
   "metadata": {},
   "outputs": [
    {
     "data": {
      "text/plain": [
       "0.6285714285714286"
      ]
     },
     "execution_count": 20,
     "metadata": {},
     "output_type": "execute_result"
    }
   ],
   "source": [
    "from sklearn.metrics import precision_score\n",
    "precision_score(di_test_y,di_pred)"
   ]
  },
  {
   "cell_type": "code",
   "execution_count": 21,
   "metadata": {},
   "outputs": [
    {
     "data": {
      "text/plain": [
       "0.4489795918367347"
      ]
     },
     "execution_count": 21,
     "metadata": {},
     "output_type": "execute_result"
    }
   ],
   "source": [
    "precision_score(di_pred,di_test_y)"
   ]
  },
  {
   "cell_type": "code",
   "execution_count": 22,
   "metadata": {},
   "outputs": [
    {
     "data": {
      "text/plain": [
       "array([[ 1.74625505e-01,  3.52602526e-02, -1.35528641e-02,\n",
       "         2.52728989e-03, -8.66013219e-04,  5.45976402e-02,\n",
       "         1.29770454e+00,  4.28362428e-03]])"
      ]
     },
     "execution_count": 22,
     "metadata": {},
     "output_type": "execute_result"
    }
   ],
   "source": [
    "lg.coef_"
   ]
  },
  {
   "cell_type": "code",
   "execution_count": 23,
   "metadata": {},
   "outputs": [
    {
     "data": {
      "text/plain": [
       "array([-7.30213289])"
      ]
     },
     "execution_count": 23,
     "metadata": {},
     "output_type": "execute_result"
    }
   ],
   "source": [
    "lg.intercept_"
   ]
  },
  {
   "cell_type": "code",
   "execution_count": 25,
   "metadata": {},
   "outputs": [
    {
     "data": {
      "text/plain": [
       "array([[0.88226773, 0.11773227],\n",
       "       [0.51545281, 0.48454719],\n",
       "       [0.42007328, 0.57992672],\n",
       "       [0.67321985, 0.32678015],\n",
       "       [0.2861566 , 0.7138434 ],\n",
       "       [0.89661171, 0.10338829],\n",
       "       [0.40819276, 0.59180724],\n",
       "       [0.92081043, 0.07918957],\n",
       "       [0.31905374, 0.68094626],\n",
       "       [0.60417223, 0.39582777],\n",
       "       [0.86110312, 0.13889688],\n",
       "       [0.95468049, 0.04531951],\n",
       "       [0.56968414, 0.43031586],\n",
       "       [0.63672271, 0.36327729],\n",
       "       [0.90369883, 0.09630117],\n",
       "       [0.12029027, 0.87970973],\n",
       "       [0.65589984, 0.34410016],\n",
       "       [0.95212649, 0.04787351],\n",
       "       [0.92421339, 0.07578661],\n",
       "       [0.42656386, 0.57343614],\n",
       "       [0.45695766, 0.54304234],\n",
       "       [0.54739983, 0.45260017],\n",
       "       [0.30639488, 0.69360512],\n",
       "       [0.63676218, 0.36323782],\n",
       "       [0.86689912, 0.13310088],\n",
       "       [0.90076595, 0.09923405],\n",
       "       [0.9298469 , 0.0701531 ],\n",
       "       [0.81721382, 0.18278618],\n",
       "       [0.79196776, 0.20803224],\n",
       "       [0.6903725 , 0.3096275 ],\n",
       "       [0.6152941 , 0.3847059 ],\n",
       "       [0.8603373 , 0.1396627 ],\n",
       "       [0.76857267, 0.23142733],\n",
       "       [0.84721418, 0.15278582],\n",
       "       [0.72631978, 0.27368022],\n",
       "       [0.40992188, 0.59007812],\n",
       "       [0.71957569, 0.28042431],\n",
       "       [0.36092907, 0.63907093],\n",
       "       [0.54287713, 0.45712287],\n",
       "       [0.83198618, 0.16801382],\n",
       "       [0.95009492, 0.04990508],\n",
       "       [0.75666994, 0.24333006],\n",
       "       [0.91543385, 0.08456615],\n",
       "       [0.23228814, 0.76771186],\n",
       "       [0.87854968, 0.12145032],\n",
       "       [0.78689276, 0.21310724],\n",
       "       [0.57107386, 0.42892614],\n",
       "       [0.64568239, 0.35431761],\n",
       "       [0.90234658, 0.09765342],\n",
       "       [0.96364545, 0.03635455],\n",
       "       [0.93340386, 0.06659614],\n",
       "       [0.82337531, 0.17662469],\n",
       "       [0.67901297, 0.32098703],\n",
       "       [0.5195424 , 0.4804576 ],\n",
       "       [0.62211169, 0.37788831],\n",
       "       [0.86022105, 0.13977895],\n",
       "       [0.94225212, 0.05774788],\n",
       "       [0.32564689, 0.67435311],\n",
       "       [0.22043232, 0.77956768],\n",
       "       [0.75811698, 0.24188302],\n",
       "       [0.34783523, 0.65216477],\n",
       "       [0.65666439, 0.34333561],\n",
       "       [0.54376603, 0.45623397],\n",
       "       [0.91236276, 0.08763724],\n",
       "       [0.84659167, 0.15340833],\n",
       "       [0.35635302, 0.64364698],\n",
       "       [0.61763209, 0.38236791],\n",
       "       [0.93216158, 0.06783842],\n",
       "       [0.55912913, 0.44087087],\n",
       "       [0.92131994, 0.07868006],\n",
       "       [0.48334192, 0.51665808],\n",
       "       [0.74985361, 0.25014639],\n",
       "       [0.85659558, 0.14340442],\n",
       "       [0.84441754, 0.15558246],\n",
       "       [0.55601129, 0.44398871],\n",
       "       [0.5569354 , 0.4430646 ],\n",
       "       [0.37963721, 0.62036279],\n",
       "       [0.6547461 , 0.3452539 ],\n",
       "       [0.03766721, 0.96233279],\n",
       "       [0.50957065, 0.49042935],\n",
       "       [0.78811243, 0.21188757],\n",
       "       [0.28048318, 0.71951682],\n",
       "       [0.70694008, 0.29305992],\n",
       "       [0.8218395 , 0.1781605 ],\n",
       "       [0.64554072, 0.35445928],\n",
       "       [0.13223274, 0.86776726],\n",
       "       [0.22839592, 0.77160408],\n",
       "       [0.48744097, 0.51255903],\n",
       "       [0.23481676, 0.76518324],\n",
       "       [0.82418971, 0.17581029],\n",
       "       [0.21330204, 0.78669796],\n",
       "       [0.68932329, 0.31067671],\n",
       "       [0.85023593, 0.14976407],\n",
       "       [0.87599713, 0.12400287],\n",
       "       [0.9688389 , 0.0311611 ],\n",
       "       [0.88140216, 0.11859784],\n",
       "       [0.9506636 , 0.0493364 ],\n",
       "       [0.28199657, 0.71800343],\n",
       "       [0.68376838, 0.31623162],\n",
       "       [0.55218595, 0.44781405],\n",
       "       [0.2258022 , 0.7741978 ],\n",
       "       [0.90745352, 0.09254648],\n",
       "       [0.87395987, 0.12604013],\n",
       "       [0.72652886, 0.27347114],\n",
       "       [0.79447388, 0.20552612],\n",
       "       [0.79337391, 0.20662609],\n",
       "       [0.31552486, 0.68447514],\n",
       "       [0.75128067, 0.24871933],\n",
       "       [0.94440892, 0.05559108],\n",
       "       [0.90148791, 0.09851209],\n",
       "       [0.58994399, 0.41005601],\n",
       "       [0.88798831, 0.11201169],\n",
       "       [0.70662071, 0.29337929],\n",
       "       [0.17262793, 0.82737207],\n",
       "       [0.82380596, 0.17619404],\n",
       "       [0.75171856, 0.24828144],\n",
       "       [0.94654989, 0.05345011],\n",
       "       [0.8255888 , 0.1744112 ],\n",
       "       [0.85079813, 0.14920187],\n",
       "       [0.80037253, 0.19962747],\n",
       "       [0.97862629, 0.02137371],\n",
       "       [0.47645944, 0.52354056],\n",
       "       [0.89459859, 0.10540141],\n",
       "       [0.31922065, 0.68077935],\n",
       "       [0.56438472, 0.43561528],\n",
       "       [0.65500739, 0.34499261],\n",
       "       [0.95737156, 0.04262844],\n",
       "       [0.92671395, 0.07328605],\n",
       "       [0.86887771, 0.13112229],\n",
       "       [0.86237298, 0.13762702],\n",
       "       [0.94779341, 0.05220659],\n",
       "       [0.58428968, 0.41571032],\n",
       "       [0.066367  , 0.933633  ],\n",
       "       [0.82754459, 0.17245541],\n",
       "       [0.58320167, 0.41679833],\n",
       "       [0.44259725, 0.55740275],\n",
       "       [0.74810587, 0.25189413],\n",
       "       [0.1574639 , 0.8425361 ],\n",
       "       [0.42842476, 0.57157524],\n",
       "       [0.91058126, 0.08941874],\n",
       "       [0.87830532, 0.12169468],\n",
       "       [0.51296162, 0.48703838],\n",
       "       [0.6653429 , 0.3346571 ],\n",
       "       [0.84485397, 0.15514603],\n",
       "       [0.56807248, 0.43192752],\n",
       "       [0.90832199, 0.09167801],\n",
       "       [0.96637967, 0.03362033],\n",
       "       [0.84250489, 0.15749511],\n",
       "       [0.82640034, 0.17359966],\n",
       "       [0.04523199, 0.95476801],\n",
       "       [0.94210937, 0.05789063],\n",
       "       [0.89544572, 0.10455428],\n",
       "       [0.91748832, 0.08251168],\n",
       "       [0.79460921, 0.20539079]])"
      ]
     },
     "execution_count": 25,
     "metadata": {},
     "output_type": "execute_result"
    }
   ],
   "source": []
  },
  {
   "cell_type": "code",
   "execution_count": 26,
   "metadata": {},
   "outputs": [
    {
     "data": {
      "text/plain": [
       "array([0, 0, 1, 0, 1, 0, 1, 0, 1, 0, 0, 0, 0, 0, 0, 1, 0, 0, 0, 1, 1, 0,\n",
       "       1, 0, 0, 0, 0, 0, 0, 0, 0, 0, 0, 0, 0, 1, 0, 1, 0, 0, 0, 0, 0, 1,\n",
       "       0, 0, 0, 0, 0, 0, 0, 0, 0, 0, 0, 0, 0, 1, 1, 0, 1, 0, 0, 0, 0, 1,\n",
       "       0, 0, 0, 0, 1, 0, 0, 0, 0, 0, 1, 0, 1, 0, 0, 1, 0, 0, 0, 1, 1, 1,\n",
       "       1, 0, 1, 0, 0, 0, 0, 0, 0, 1, 0, 0, 1, 0, 0, 0, 0, 0, 1, 0, 0, 0,\n",
       "       0, 0, 0, 1, 0, 0, 0, 0, 0, 0, 0, 1, 0, 1, 0, 0, 0, 0, 0, 0, 0, 0,\n",
       "       1, 0, 0, 1, 0, 1, 1, 0, 0, 0, 0, 0, 0, 0, 0, 0, 0, 1, 0, 0, 0, 0],\n",
       "      dtype=int64)"
      ]
     },
     "execution_count": 26,
     "metadata": {},
     "output_type": "execute_result"
    }
   ],
   "source": [
    "di_pred"
   ]
  },
  {
   "cell_type": "code",
   "execution_count": 27,
   "metadata": {},
   "outputs": [],
   "source": [
    "from sklearn.metrics import roc_auc_score\n",
    "from sklearn.metrics import roc_curve"
   ]
  },
  {
   "cell_type": "code",
   "execution_count": 28,
   "metadata": {},
   "outputs": [
    {
     "data": {
      "text/plain": [
       "0.6625850340136055"
      ]
     },
     "execution_count": 28,
     "metadata": {},
     "output_type": "execute_result"
    }
   ],
   "source": [
    "roc_auc_score(di_test_y,di_pred)"
   ]
  },
  {
   "cell_type": "code",
   "execution_count": 30,
   "metadata": {},
   "outputs": [],
   "source": [
    "prob=lg.predict_proba(di_test_x)"
   ]
  },
  {
   "cell_type": "code",
   "execution_count": 32,
   "metadata": {},
   "outputs": [
    {
     "data": {
      "text/plain": [
       "array([0.11773227, 0.48454719, 0.57992672, 0.32678015, 0.7138434 ,\n",
       "       0.10338829, 0.59180724, 0.07918957, 0.68094626, 0.39582777,\n",
       "       0.13889688, 0.04531951, 0.43031586, 0.36327729, 0.09630117,\n",
       "       0.87970973, 0.34410016, 0.04787351, 0.07578661, 0.57343614,\n",
       "       0.54304234, 0.45260017, 0.69360512, 0.36323782, 0.13310088,\n",
       "       0.09923405, 0.0701531 , 0.18278618, 0.20803224, 0.3096275 ,\n",
       "       0.3847059 , 0.1396627 , 0.23142733, 0.15278582, 0.27368022,\n",
       "       0.59007812, 0.28042431, 0.63907093, 0.45712287, 0.16801382,\n",
       "       0.04990508, 0.24333006, 0.08456615, 0.76771186, 0.12145032,\n",
       "       0.21310724, 0.42892614, 0.35431761, 0.09765342, 0.03635455,\n",
       "       0.06659614, 0.17662469, 0.32098703, 0.4804576 , 0.37788831,\n",
       "       0.13977895, 0.05774788, 0.67435311, 0.77956768, 0.24188302,\n",
       "       0.65216477, 0.34333561, 0.45623397, 0.08763724, 0.15340833,\n",
       "       0.64364698, 0.38236791, 0.06783842, 0.44087087, 0.07868006,\n",
       "       0.51665808, 0.25014639, 0.14340442, 0.15558246, 0.44398871,\n",
       "       0.4430646 , 0.62036279, 0.3452539 , 0.96233279, 0.49042935,\n",
       "       0.21188757, 0.71951682, 0.29305992, 0.1781605 , 0.35445928,\n",
       "       0.86776726, 0.77160408, 0.51255903, 0.76518324, 0.17581029,\n",
       "       0.78669796, 0.31067671, 0.14976407, 0.12400287, 0.0311611 ,\n",
       "       0.11859784, 0.0493364 , 0.71800343, 0.31623162, 0.44781405,\n",
       "       0.7741978 , 0.09254648, 0.12604013, 0.27347114, 0.20552612,\n",
       "       0.20662609, 0.68447514, 0.24871933, 0.05559108, 0.09851209,\n",
       "       0.41005601, 0.11201169, 0.29337929, 0.82737207, 0.17619404,\n",
       "       0.24828144, 0.05345011, 0.1744112 , 0.14920187, 0.19962747,\n",
       "       0.02137371, 0.52354056, 0.10540141, 0.68077935, 0.43561528,\n",
       "       0.34499261, 0.04262844, 0.07328605, 0.13112229, 0.13762702,\n",
       "       0.05220659, 0.41571032, 0.933633  , 0.17245541, 0.41679833,\n",
       "       0.55740275, 0.25189413, 0.8425361 , 0.57157524, 0.08941874,\n",
       "       0.12169468, 0.48703838, 0.3346571 , 0.15514603, 0.43192752,\n",
       "       0.09167801, 0.03362033, 0.15749511, 0.17359966, 0.95476801,\n",
       "       0.05789063, 0.10455428, 0.08251168, 0.20539079])"
      ]
     },
     "execution_count": 32,
     "metadata": {},
     "output_type": "execute_result"
    }
   ],
   "source": [
    "prob[:,1]"
   ]
  },
  {
   "cell_type": "code",
   "execution_count": 37,
   "metadata": {},
   "outputs": [],
   "source": [
    "fpr,tpr,threshold=roc_curve(di_test_y,prob[:,1])"
   ]
  },
  {
   "cell_type": "code",
   "execution_count": 38,
   "metadata": {},
   "outputs": [
    {
     "data": {
      "text/plain": [
       "array([0.        , 0.00952381, 0.01904762, 0.01904762, 0.02857143,\n",
       "       0.02857143, 0.03809524, 0.03809524, 0.04761905, 0.04761905,\n",
       "       0.05714286, 0.05714286, 0.06666667, 0.06666667, 0.0952381 ,\n",
       "       0.0952381 , 0.12380952, 0.12380952, 0.16190476, 0.16190476,\n",
       "       0.18095238, 0.18095238, 0.19047619, 0.19047619, 0.2       ,\n",
       "       0.2       , 0.21904762, 0.21904762, 0.23809524, 0.23809524,\n",
       "       0.2952381 , 0.2952381 , 0.3047619 , 0.3047619 , 0.31428571,\n",
       "       0.31428571, 0.40952381, 0.40952381, 0.41904762, 0.41904762,\n",
       "       0.47619048, 0.47619048, 0.6       , 0.6       , 0.62857143,\n",
       "       0.62857143, 0.6952381 , 0.6952381 , 0.85714286, 0.85714286,\n",
       "       1.        , 1.        ])"
      ]
     },
     "execution_count": 38,
     "metadata": {},
     "output_type": "execute_result"
    }
   ],
   "source": [
    "fpr"
   ]
  },
  {
   "cell_type": "code",
   "execution_count": 40,
   "metadata": {},
   "outputs": [
    {
     "data": {
      "image/png": "[encoded data removed]",
      "text/plain": [
       "<Figure size 432x288 with 1 Axes>"
      ]
     },
     "metadata": {
      "needs_background": "light"
     },
     "output_type": "display_data"
    }
   ],
   "source": [
    "import matplotlib.pyplot as plt\n",
    "plt.plot(fpr,tpr)\n",
    "plt.xlabel(\"False Positive Ratio\",size=20)\n",
    "plt.ylabel(\"True Positive Ratio\",size=20)\n",
    "plt.title(\"FPR Vs TPR\",size=20)\n",
    "plt.grid()"
   ]
  },
  {
   "cell_type": "code",
   "execution_count": null,
   "metadata": {},
   "outputs": [],
   "source": []
  }
 ],
 "metadata": {
  "kernelspec": {
   "display_name": "Python 3",
   "language": "python",
   "name": "python3"
  },
  "language_info": {
   "codemirror_mode": {
    "name": "ipython",
    "version": 3
   },
   "file_extension": ".py",
   "mimetype": "text/x-python",
   "name": "python",
   "nbconvert_exporter": "python",
   "pygments_lexer": "ipython3",
   "version": "3.8.5"
  }
 },
 "nbformat": 4,
 "nbformat_minor": 4
}
